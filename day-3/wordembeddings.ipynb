{
 "cells": [
  {
   "cell_type": "markdown",
   "metadata": {},
   "source": [
    "# Intro to word embeddings\n",
    "\n",
    "So far we have focused on bag-of-word approaches i.e representations of text as a vector of word frequencies. An alternative formalization of text consists in representing the words (or bi-grams, phrases, etc) themselves as vectors. A _word vector_ has no meaning per se, but it is informative of the _context_ in which the word is used. This vector representation can become very close to the semantic meaning of the word. Combined with simple vector operations, these representations can used to find synonyms, to test analogies, etc. Word vectors can also be used in any subsequent task (dictionary methods, classification, etc) as features instead of the simple word frequencies in the classical bag-of-words approach.\n",
    "\n",
    "In this notebook we are going to construct word embeddings using neural networks. The spirit of the method is to use 'prediction as an excuse': either predict a target word conditional on its surrounding words (_continuous-bag-of-words_) or predict surrounding words conditional on the target (_skip-gram_). What we care about is not the final output but the _hidden layer_ projection from a two-layers neural network designed to solve that prediction problem (see skip-gram diagram below from Mikolov et al. 2013). \n",
    "\n",
    "<img src='img/wordembeddings_diagram.png' />\n",
    "\n",
    "If we choose the hidden layer to have $K$ hidden neurons then each target word is represented by a $K$-dimensional vector of hidden outputm which we call _embedding_. In practice $K$ should be between 100 and 300, but that really depends on the vocabulary size. For the purpose of learning we are going to apply the famous skip-gram Google's Word2Vec approach (Mikolov et al. 2013) to a corpus that is typically _too small_ so that we reduce our word representations to vectors of 30 dimensions. Keep in mind that the typical required vocabulary size is at least half a million of unique tokens.\n",
    "\n",
    "Last note on Word2Vec: it is very powerful! When trained on very large corpora (like all of English Wikipedia) it can perform very strong analogies such as finding that the vector corresponding the most to the output of the operation 'king' - 'man' + 'woman' is 'queen'. There exist alternative packages such as GloVe (Stanford NLP) or FastText."
   ]
  },
  {
   "cell_type": "markdown",
   "metadata": {},
   "source": [
    "## Data\n",
    "\n",
    "We are going to embed the vocabulary from the corpus of Frances Ellen Watkins Harper's books we encountered on day 1. First, let's read the files into a single string:"
   ]
  },
  {
   "cell_type": "code",
   "execution_count": 10,
   "metadata": {},
   "outputs": [],
   "source": [
    "import codecs\n",
    "\n",
    "import os\n",
    "DATA_DIR = 'data'\n",
    "\n",
    "import glob\n",
    "fnames = os.path.join(DATA_DIR, 'harper', '*.txt')\n",
    "fnames = glob.glob(fnames)\n",
    "raw = ''\n",
    "for fname in fnames:\n",
    "    with codecs.open(fname, \"r\", encoding='utf-8-sig', errors='ignore') as f:\n",
    "        t = f.read()\n",
    "        raw += t"
   ]
  },
  {
   "cell_type": "markdown",
   "metadata": {},
   "source": [
    "## Quick pre-processing"
   ]
  },
  {
   "cell_type": "code",
   "execution_count": 11,
   "metadata": {},
   "outputs": [
    {
     "data": {
      "text/plain": [
       "[['ocate', 'for', 'civil', 'rights'],\n",
       " ['she',\n",
       "  'attended',\n",
       "  'the',\n",
       "  'academy',\n",
       "  'for',\n",
       "  'negro',\n",
       "  'youth',\n",
       "  'and',\n",
       "  'was',\n",
       "  'educated',\n",
       "  'as',\n",
       "  'a',\n",
       "  'teacher']]"
      ]
     },
     "execution_count": 11,
     "metadata": {},
     "output_type": "execute_result"
    }
   ],
   "source": [
    "text = raw[1114:] # gets rid of meta information at the beginning\n",
    "\n",
    "# A few modifications before sentence segmentation\n",
    "text = text.replace('Mrs.', 'Mrs')\n",
    "text = text.replace('Mr.', 'Mr')\n",
    "text = text.replace('\\n', ' ')\n",
    "text = text.replace('\\r', ' ')\n",
    "\n",
    "# Sentence segmentation\n",
    "import re\n",
    "sent_boundary_pattern = r'[.?!]'\n",
    "sentences = re.split(sent_boundary_pattern, text)\n",
    "\n",
    "# Remove punctuation, special characters and upper cases\n",
    "from string import punctuation\n",
    "special = ['“', '”']\n",
    "sentences = [''.join([ch for ch in sent if ch not in punctuation and ch not in special]) for sent in sentences]\n",
    "sentences = [sent.lower() for sent in sentences]\n",
    "\n",
    "# Remove white sace\n",
    "sentences = [sent.strip() for sent in sentences]\n",
    "\n",
    "# Tokenization within sentence\n",
    "list_of_list = [sent.split() for sent in sentences]\n",
    "list_of_list[:2]"
   ]
  },
  {
   "cell_type": "markdown",
   "metadata": {},
   "source": [
    "## Train a skip-gram model with Word2Vec \n",
    "\n",
    "First, you'll need to install [Gensim](https://pypi.org/project/gensim/). You can do so directly in the notebook using     ```!pip install```."
   ]
  },
  {
   "cell_type": "code",
   "execution_count": 14,
   "metadata": {},
   "outputs": [
    {
     "name": "stdout",
     "output_type": "stream",
     "text": [
      "Requirement already satisfied: gensim in c:\\users\\kathe\\anaconda3\\envs\\dlab_machine_learning\\lib\\site-packages (4.0.1)\n",
      "Requirement already satisfied: smart-open>=1.8.1 in c:\\users\\kathe\\anaconda3\\envs\\dlab_machine_learning\\lib\\site-packages (from gensim) (5.2.0)\n",
      "Requirement already satisfied: Cython==0.29.21 in c:\\users\\kathe\\anaconda3\\envs\\dlab_machine_learning\\lib\\site-packages (from gensim) (0.29.21)\n",
      "Requirement already satisfied: numpy>=1.11.3 in c:\\users\\kathe\\anaconda3\\envs\\dlab_machine_learning\\lib\\site-packages (from gensim) (1.21.2)\n",
      "Requirement already satisfied: scipy>=0.18.1 in c:\\users\\kathe\\anaconda3\\envs\\dlab_machine_learning\\lib\\site-packages (from gensim) (1.7.1)\n"
     ]
    }
   ],
   "source": [
    "!pip install gensim"
   ]
  },
  {
   "cell_type": "code",
   "execution_count": 17,
   "metadata": {},
   "outputs": [
    {
     "data": {
      "text/plain": [
       "(314670, 450755)"
      ]
     },
     "execution_count": 17,
     "metadata": {},
     "output_type": "execute_result"
    }
   ],
   "source": [
    "from gensim.models import Word2Vec\n",
    "\n",
    "model = Word2Vec(min_count=2, vector_size=30, sg=1)\n",
    "model.build_vocab(list_of_list)  # prepare the model vocabulary\n",
    "model.train(list_of_list, total_examples=model.corpus_count, epochs=model.iter)\n"
   ]
  },
  {
   "cell_type": "markdown",
   "metadata": {},
   "source": [
    "## Asses model accuracy\n",
    "### Size of vocabulary"
   ]
  },
  {
   "cell_type": "code",
   "execution_count": 19,
   "metadata": {},
   "outputs": [
    {
     "name": "stdout",
     "output_type": "stream",
     "text": [
      "4464\n"
     ]
    }
   ],
   "source": [
    " print(len(model.wv.index_to_key))"
   ]
  },
  {
   "cell_type": "markdown",
   "metadata": {},
   "source": [
    "### Latent vector representation"
   ]
  },
  {
   "cell_type": "code",
   "execution_count": 21,
   "metadata": {},
   "outputs": [
    {
     "name": "stdout",
     "output_type": "stream",
     "text": [
      "[ 0.06924564  0.28071073  0.56905425 -0.18667486  0.00204633 -0.1813182\n",
      "  0.11958066  0.26388696 -0.5582225  -0.17833006  0.481077   -0.11125989\n",
      "  0.05924989 -0.00705785 -0.26934934 -0.02716676  0.54685074  0.11274735\n",
      " -0.45409024  0.04612001  0.5777753  -0.6056014   0.26844725  0.38412955\n",
      "  0.12074065 -0.09278563  0.84118444  0.07433166 -0.38083047 -0.4524818 ]\n"
     ]
    }
   ],
   "source": [
    "print(model.wv.get_vector('woman'))"
   ]
  },
  {
   "cell_type": "markdown",
   "metadata": {},
   "source": [
    "### Similarity between words"
   ]
  },
  {
   "cell_type": "code",
   "execution_count": 35,
   "metadata": {},
   "outputs": [
    {
     "name": "stdout",
     "output_type": "stream",
     "text": [
      "0.9143768\n"
     ]
    }
   ],
   "source": [
    "print(model.wv.similarity('woman', 'daughter'))"
   ]
  },
  {
   "cell_type": "markdown",
   "metadata": {},
   "source": [
    "### Most similar words "
   ]
  },
  {
   "cell_type": "code",
   "execution_count": 36,
   "metadata": {},
   "outputs": [
    {
     "name": "stdout",
     "output_type": "stream",
     "text": [
      "[('girl', 0.9766966104507446), ('man', 0.9766955375671387), ('great', 0.975362241268158), ('known', 0.9738488793373108), ('true', 0.9689123034477234), ('slave', 0.9674014449119568), ('thought', 0.9663357138633728), ('knew', 0.9654760360717773), ('too', 0.9645689725875854), ('white', 0.964078962802887)]\n"
     ]
    }
   ],
   "source": [
    "print(model.wv.similar_by_word('woman'))"
   ]
  },
  {
   "cell_type": "code",
   "execution_count": 38,
   "metadata": {},
   "outputs": [
    {
     "name": "stdout",
     "output_type": "stream",
     "text": [
      "[('work', 0.37240225076675415), ('colored', 0.34611696004867554), ('copy', 0.3123661279678345), ('people', 0.3053143620491028), ('other', 0.29998040199279785), ('be', 0.295703262090683), ('terms', 0.2878722548484802), ('united', 0.2847304344177246), ('refund', 0.2731558084487915), ('associated', 0.2707774341106415)]\n"
     ]
    }
   ],
   "source": [
    "vector = model.wv.get_vector('woman') - model.wv.get_vector('girl') \n",
    "print(model.wv.similar_by_vector(vector))"
   ]
  },
  {
   "cell_type": "markdown",
   "metadata": {},
   "source": [
    "## Challenge\n",
    "\n",
    "Try to improve the model by tuning its parameters:\n",
    "- Increase the context window\n",
    "- Construct continuous-bag-of-words representations\n"
   ]
  },
  {
   "cell_type": "code",
   "execution_count": null,
   "metadata": {},
   "outputs": [],
   "source": []
  }
 ],
 "metadata": {
  "kernelspec": {
   "display_name": "Python 3 (ipykernel)",
   "language": "python",
   "name": "python3"
  },
  "language_info": {
   "codemirror_mode": {
    "name": "ipython",
    "version": 3
   },
   "file_extension": ".py",
   "mimetype": "text/x-python",
   "name": "python",
   "nbconvert_exporter": "python",
   "pygments_lexer": "ipython3",
   "version": "3.8.10"
  }
 },
 "nbformat": 4,
 "nbformat_minor": 2
}
